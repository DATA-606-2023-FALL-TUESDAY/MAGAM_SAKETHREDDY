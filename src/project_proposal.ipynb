{
 "cells": [
  {
   "cell_type": "markdown",
   "id": "0e20f2e7",
   "metadata": {},
   "source": [
    "<div style=\"background-color: lightblue; padding: 10px;\">\n",
    "     <h1 style=\"font-style: italic;\">  Project Title: Premier League Match Winners Prediction</h1>\n",
    "    \n",
    "</div>"
   ]
  },
  {
   "attachments": {
    "Premier-League-logo.png": {
     "image/png": "[encoded data removed]"
    }
   },
   "cell_type": "markdown",
   "id": "ce4c6fa7",
   "metadata": {},
   "source": [
    "![Premier-League-logo.png](attachment:Premier-League-logo.png)\n"
   ]
  },
  {
   "cell_type": "markdown",
   "id": "43bc7c7b",
   "metadata": {},
   "source": [
    "<div style=\"background-color: lightgreen; padding: 10px;\">\n",
    "     <h2 style=\"font-style: italic;\">Prepared for UMBC Data Science Master Degree Capstone under Dr Chaojie (Jay) Wang</h2>\n",
    "    \n",
    "</div>\n",
    "\n",
    "### Author: Saketh Reddy Magam\n",
    "\n",
    "   - [GitHub Profile](https://github.com/saketh105)\n",
    "   - [LinkedIn Profile](https://www.linkedin.com/feed/)\n",
    "   \n",
    "**Project Resources:**\n",
    "\n",
    "   - [PowerPoint Presentation (PDF)](link-to-your-ppt-presentation.pdf)\n",
    "   - [YouTube Video](link-to-your-youtube-video)"
   ]
  },
  {
   "cell_type": "markdown",
   "id": "45b075bc",
   "metadata": {},
   "source": [
    "<div style=\"background-color: lavender; padding: 10px;\">\n",
    "     <h1>Project Focus</h1> </div>"
   ]
  },
  {
   "cell_type": "markdown",
   "id": "f5cfd9e2",
   "metadata": {},
   "source": [
    "The project, _Premier League Match Winners Prediction_, centers around the development of a predictive model for forecasting the winners of matches in the Premier League, one of the most prestigious football (soccer) leagues globally. The primary aim is to leverage data analysis and machine learning techniques to make accurate match predictions.\n",
    "\n",
    "### Significance:\n",
    "1. **Enhanced Fan Experience:** Accurate match predictions enhance the fan experience by helping them decide which matches to watch, fostering engagement, and deepening their connection to the sport.\n",
    "2. **Data-Driven Insights:** The project provides valuable insights into team performance, player statistics, and trends, benefiting sports analysts and enthusiasts.\n",
    "3. **Betting and Gambling:** Match predictions are of interest to individuals involved in sports betting and gambling, as informed decisions can be made based on data-driven forecasts.\n",
    "\n",
    "### Research Questions\n",
    "The following research questions guide the project:\n",
    "\n",
    "- Can historical match data accurately predict the outcomes of future Premier League matches?\n",
    "- To what extent can past match data, including team performance, player statistics, and historical trends, inform predictions?\n",
    "- Which machine learning algorithms and data features are most effective for match winner prediction in the Premier League?\n",
    "- Are there specific machine learning algorithms that outperform others in this context, and which features contribute significantly to prediction accuracy?\n",
    "- How can the predictive model be used to benefit football fans, sports analysts, and other stakeholders?\n",
    "- In what ways can the model's predictions be applied to enhance the experience of Premier League enthusiasts, provide actionable insights, and support decision-making?"
   ]
  },
  {
   "cell_type": "markdown",
   "id": "cff5c400",
   "metadata": {},
   "source": [
    " _By addressing these research questions, the project aims to develop a robust and effective predictive model with practical applications and contribute to the understanding of match winner prediction in the context of the Premier League._"
   ]
  },
  {
   "cell_type": "markdown",
   "id": "f6ac90da",
   "metadata": {},
   "source": [
    "<div style=\"background-color: lavender; padding: 10px;\">\n",
    "     <h1 style=\"font-style: italic;\">Data Description</h1>\n",
    "    \n",
    "</div>"
   ]
  },
  {
   "attachments": {},
   "cell_type": "markdown",
   "id": "706ff99e",
   "metadata": {},
   "source": [
    "\n",
    "\n",
    "### Data Sources\n",
    "The dataset for this project is collected from Football Reference Website, which includes Premier League official records,statistics, and historical football databases. It encompasses comprehensive information on Premier League matches, teams, players, and related statistics.\n",
    "- website: [Football Reference](https://fbref.com/en/)\n",
    "\n",
    "### Data Size\n",
    "The dataset consists of two files, one containing team statistics and the other containing shooting statistics that have been combined into a single file based on the individual components. However, as a reference:\n",
    "\n",
    "Total dataset size: Approximately 100KB\n",
    "Data Shape\n",
    "The dataset is structured in tabular form, with multiple CSV (Comma-Separated Values) files representing different aspects of Premier League matches. The exact number of rows and columns 1598 rows and 27 coloumns.\n",
    "\n",
    "### Time Period\n",
    "The data cover a time span ranging from the inception of the Premier League in 2021 up to the most recent available season (2023-2024). Therefore, the dataset encompasses a time period spanning several seasons.\n",
    "\n",
    "### Data Granularity\n",
    "Each row in the dataset represents a single entity, with specific datasets focusing on different aspects:\n",
    "\n",
    "- In the **_Stats_** dataset, each row represents a Premier League team. It includes team names, home stadiums, round, day, venue, result and other team-specific information.\n",
    "\n",
    "- In the **_shooting_** dataset, each row represents an individual player who has participated in Premier League matches. It includes player names, shooting percentage and player-specific statistics.\n",
    "\n",
    "- The **_Matches_** Dataset, it compromises of both these datasets.\n",
    "\n",
    "### Data Dictionary\n",
    "**Matches Dataset Columns:**\n",
    "\n",
    "- date (object): The date on which the match was played \n",
    "- time (object): Time-related data for matches.\n",
    "- comp (object): The name of the competition or league.\n",
    "- round (object): The round or stage of matches.\n",
    "- day (object): The day of the week when matches occurred.\n",
    "- venue (object): The name of the venue or stadium where matches were played.\n",
    "- result (object): The match result (e.g., \"Win,\" \"Loss,\" \"Draw\").\n",
    "- gf (object): The number of goals scored by the team (goals for).\n",
    "- ga (object): The number of goals conceded by the team (goals against).\n",
    "- opponent (object): The names of opponent teams.\n",
    "- xg (float64): Expected goals scored by the team.\n",
    "- xga (float64): Expected goals conceded by the team.\n",
    "- poss (float64): Possession percentage for the team.\n",
    "- attendance (float64): The number of attendees at the match.\n",
    "- captain (object): The captain of the team.\n",
    "- formation (object): The team's formation used in the match.\n",
    "- referee (object): The name of the match referee.\n",
    "- match report (object): Links or references to match reports.\n",
    "- notes (object): Additional notes or comments.\n",
    "- sh (float64): The number of shots taken by the team.\n",
    "- sot (float64): The number of shots on target by the team.\n",
    "- dist (float64): Distance-related data (meaning may vary).\n",
    "- fk (float64): The number of free kicks awarded to the team.\n",
    "- pk (float64): The number of penalty kicks scored by the team.\n",
    "- pkatt (float64): The number of penalty kicks attempted by the team.\n",
    "- season (int64): The season or time period (assuming it should be of integer data type).\n",
    "- team (object): The name of the team.\n",
    "\n",
    "_The data types are based on the information provided and may require further validation depending on the actual content of the dataset. Please note that columns with data type \"object\" typically contain strings or mixed data types, and you may need to perform data type conversions or data cleaning as needed for analysis._"
   ]
  },
  {
   "cell_type": "markdown",
   "id": "b211255b",
   "metadata": {},
   "source": [
    "<div style=\"background-color: lavender; padding: 10px;\">\n",
    "     <h1 style=\"font-style: italic;\">Target and Features</h1>\n",
    "    \n",
    "</div>"
   ]
  },
  {
   "cell_type": "markdown",
   "id": "22b6d141",
   "metadata": {},
   "source": [
    "For our machine learning model, we will typically structure our dataset as follows:\n",
    "\n",
    "1. Target/Label: The target variable will be a binary classification variable representing the match outcome (e.g., \"Home Team Win\" or \"Away Team Win\").\n",
    "\n",
    "2. Features/Predictors: Potential features for our machine learning model may include Venue, opponent, time, date, various match-related statistics, performance indicators.\n",
    "\n",
    "_The specific choice of features and target variable will be refined during the data preprocessing and model development stages of the project based on their relevance and performance in predicting match outcomes._\n",
    "\n",
    "3. The Machine Learning Models will depend on the specific goals and tasks you want to accomplish with your data as we progress through the "
   ]
  }
 ],
 "metadata": {
  "kernelspec": {
   "display_name": "Python 3 (ipykernel)",
   "language": "python",
   "name": "python3"
  },
  "language_info": {
   "codemirror_mode": {
    "name": "ipython",
    "version": 3
   },
   "file_extension": ".py",
   "mimetype": "text/x-python",
   "name": "python",
   "nbconvert_exporter": "python",
   "pygments_lexer": "ipython3",
   "version": "3.9.13"
  }
 },
 "nbformat": 4,
 "nbformat_minor": 5
}
